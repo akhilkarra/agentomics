{
 "cells": [
  {
   "cell_type": "markdown",
   "metadata": {},
   "source": [
    "# Evaluate Multi Agent System Simulation\n",
    "\n",
    "This notebook evaluates the accuracy and performance of the three-agent system of banks made in this repository with real world data."
   ]
  },
  {
   "cell_type": "markdown",
   "metadata": {},
   "source": [
    "# Prerequisites\n",
    "\n",
    "This notebook uses the Federal Reserve Economic Data (FRED) API to import economic data and requires a `.env` file to load the `FRED_API_KEY`. Make sure the .env file is present in the root directory of the repository and includes the key before running the notebook."
   ]
  },
  {
   "cell_type": "code",
   "execution_count": null,
   "metadata": {},
   "outputs": [],
   "source": [
    "import os\n",
    "\n",
    "import matplotlib.pyplot as plt\n",
    "import pandas as pd\n",
    "from dotenv import load_dotenv\n",
    "\n",
    "from agentomics.utils.fred_download import get_fred_data\n",
    "\n",
    "load_dotenv()"
   ]
  },
  {
   "cell_type": "markdown",
   "metadata": {},
   "source": [
    "## Gathering Input Data\n",
    "\n",
    "Gather data for [US GDP Growth Rate](https://fred.stlouisfed.org/series/A191RL1Q225SBEA), [US Unemployment Rate](https://fred.stlouisfed.org/series/UNRATE), and [US Consumer Price Index](https://fred.stlouisfed.org/series/CPIAUCSL) from the FRED database."
   ]
  },
  {
   "cell_type": "code",
   "execution_count": null,
   "metadata": {},
   "outputs": [],
   "source": [
    "# FRED API details\n",
    "fred_api_url = \"https://api.stlouisfed.org/fred/series/observations\"\n",
    "fred_api_key = os.getenv(\"FRED_API_KEY\")\n",
    "fred_gdp_series_id = \"A191RL1Q225SBEA\"  # Please verify this ID is still valid\n",
    "fred_unemployment_series_id = \"UNRATE\"  # Please verify this ID is still valid\n",
    "fred_cpi_series_id = \"CPIAUCSL\"  # Please verify this ID is still valid\n",
    "frequency = \"q\"  # Quarterly frequency\n",
    "observation_start = \"2015-01-01\"  # Start date for all economic series\n",
    "observation_end = \"2024-01-01\"  # End date for all economic series"
   ]
  },
  {
   "cell_type": "markdown",
   "metadata": {},
   "source": [
    "### Download Economic Data"
   ]
  },
  {
   "cell_type": "code",
   "execution_count": null,
   "metadata": {},
   "outputs": [],
   "source": [
    "gdp_df = get_fred_data(fred_gdp_series_id, frequency, observation_start, observation_end, \"Quarterly GDP Growth Rate\")\n",
    "\n",
    "# Convert percentages to decimals\n",
    "gdp_df[\"Quarterly GDP Growth Rate\"] /= 100.0\n",
    "\n",
    "unemployment_df = get_fred_data(fred_unemployment_series_id, frequency, observation_start, observation_end, \"Quarterly Unemployment Rate\")\n",
    "\n",
    "# Convert percentages to decimals\n",
    "unemployment_df[\"Quarterly Unemployment Rate\"] /= 100.0\n",
    "\n",
    "cpi_df = get_fred_data(fred_cpi_series_id, frequency, observation_start, observation_end, \"Quarterly CPI\")\n",
    "\n",
    "inflation_df = pd.DataFrame()\n",
    "inflation_df[\"date\"] = cpi_df[\"date\"]\n",
    "inflation_df[\"Quarterly Inflation Rate\"] = cpi_df[\"Quarterly CPI\"].pct_change()"
   ]
  },
  {
   "cell_type": "markdown",
   "metadata": {},
   "source": [
    "### Graph Economic Data"
   ]
  },
  {
   "cell_type": "code",
   "execution_count": null,
   "metadata": {},
   "outputs": [],
   "source": [
    "\n",
    "# Assuming the following DataFrames are already defined and processed:\n",
    "# - gdp_df with columns ['date', 'Quarterly GDP Growth Rate']\n",
    "# - unemployment_df with columns ['date', 'Quarterly Unemployment Rate']\n",
    "# - cpi_df with columns ['date', 'Quarterly CPI']\n",
    "# - inflation_df with columns ['date', 'Quarterly Inflation Rate']\n",
    "\n",
    "# Create a 2x2 grid of subplots\n",
    "fig, axs = plt.subplots(2, 2, figsize=(15, 10))\n",
    "\n",
    "# Top Left: GDP\n",
    "axs[0, 0].plot(gdp_df[\"date\"], gdp_df[\"Quarterly GDP Growth Rate\"], marker=\"o\", linestyle=\"-\", color=\"blue\")\n",
    "axs[0, 0].set_title(\"Quarterly GDP Growth Rate\")\n",
    "axs[0, 0].set_xlabel(\"Date\")\n",
    "axs[0, 0].set_ylabel(\"GDP Growth Rate\")\n",
    "axs[0, 0].grid(True)\n",
    "axs[0, 0].tick_params(axis=\"x\", rotation=45)\n",
    "\n",
    "# Top Right: Unemployment\n",
    "axs[0, 1].plot(unemployment_df[\"date\"], unemployment_df[\"Quarterly Unemployment Rate\"], marker=\"o\", linestyle=\"-\", color=\"red\")\n",
    "axs[0, 1].set_title(\"Quarterly Unemployment Rate\")\n",
    "axs[0, 1].set_xlabel(\"Date\")\n",
    "axs[0, 1].set_ylabel(\"Unemployment Rate\")\n",
    "axs[0, 1].grid(True)\n",
    "axs[0, 1].tick_params(axis=\"x\", rotation=45)\n",
    "\n",
    "# Bottom Left: CPI\n",
    "axs[1, 0].plot(cpi_df[\"date\"], cpi_df[\"Quarterly CPI\"], marker=\"o\", linestyle=\"-\", color=\"green\")\n",
    "axs[1, 0].set_title(\"Quarterly CPI\")\n",
    "axs[1, 0].set_xlabel(\"Date\")\n",
    "axs[1, 0].set_ylabel(\"CPI\")\n",
    "axs[1, 0].grid(True)\n",
    "axs[1, 0].tick_params(axis=\"x\", rotation=45)\n",
    "\n",
    "# Bottom Right: Inflation\n",
    "axs[1, 1].plot(inflation_df[\"date\"], inflation_df[\"Quarterly Inflation Rate\"], marker=\"o\", linestyle=\"--\", color=\"purple\")\n",
    "axs[1, 1].set_title(\"Quarterly Inflation Rate\")\n",
    "axs[1, 1].set_xlabel(\"Date\")\n",
    "axs[1, 1].set_ylabel(\"Inflation Rate\")\n",
    "axs[1, 1].grid(True)\n",
    "axs[1, 1].tick_params(axis=\"x\", rotation=45)\n",
    "\n",
    "# Adjust layout to prevent overlap\n",
    "plt.tight_layout()\n",
    "\n",
    "# Display the combined plot\n",
    "plt.show()"
   ]
  },
  {
   "cell_type": "code",
   "execution_count": null,
   "metadata": {},
   "outputs": [],
   "source": [
    "# Merging all data into a single DataFrame\n",
    "# merged_df = gdp_df.merge(unemployment_df, on=\"date\", how=\"outer\").merge(\n",
    "#     cpi_df[[\"date\", \"Quarterly Inflation Rate\"]], on=\"date\", how=\"outer\"\n",
    "# )\n",
    "\n",
    "\n",
    "\n",
    "print(cpi_df.tail(21))"
   ]
  },
  {
   "cell_type": "code",
   "execution_count": null,
   "metadata": {},
   "outputs": [],
   "source": [
    "# # Get the largest non-NaN contiguous block\n",
    "\n",
    "# # Identify rows without any NaNs\n",
    "# non_nan_mask = merged_df.notnull().all(axis=1)\n",
    "\n",
    "# # Create a group identifier for contiguous True blocks\n",
    "# merged_df[\"block\"] = (non_nan_mask != non_nan_mask.shift()).cumsum()\n",
    "\n",
    "# # Filter only valid blocks where rows contain no NaNs\n",
    "# valid_blocks = merged_df.loc[non_nan_mask]\n",
    "\n",
    "# # Find the largest contiguous block\n",
    "# largest_block_id = valid_blocks[\"block\"].value_counts().idxmax()\n",
    "# largest_block = merged_df[merged_df[\"block\"] == largest_block_id].drop(columns=[\"block\"])\n",
    "\n",
    "# # Display the largest contiguous sub-dataframe without NaNs\n",
    "# largest_block = largest_block.tail(10)\n",
    "# print(largest_block)"
   ]
  },
  {
   "cell_type": "code",
   "execution_count": null,
   "metadata": {},
   "outputs": [],
   "source": [
    "# # Set up data to put into simulation\n",
    "# N = len(largest_block)\n",
    "# K = 5  # We take the first 5 rows as context for the economic variables\n",
    "\n",
    "# sub_df = largest_block.head(K)\n",
    "# gdp_input = list(map(Percent, sub_df[\"Quarterly Inflation Rate\"].tolist()))\n",
    "# unemployment_input = list(map(NonnegPercent, sub_df[\"Quarterly Unemployment Rate\"].tolist()))\n",
    "# inflation_input = list(map(Percent, sub_df[\"Quarterly Inflation Rate\"].tolist()))\n",
    "\n",
    "# globals = ThreeBankGlobalState()\n",
    "# globals.economic_variables.gdp_growth_rate.set_array(gdp_input)\n",
    "# globals.economic_variables.unemployment_rate.set_array(unemployment_input)\n",
    "# globals.economic_variables.inflation_rate.set_array(inflation_input)\n",
    "# globals.number_of_quarters_to_simulate = N - K\n",
    "\n",
    "# simulate(globals, \"groq/llama-3.1-8b-instant\", outfile=\"~/ode/agentomics/output/notebook_output.csv\")"
   ]
  },
  {
   "cell_type": "code",
   "execution_count": null,
   "metadata": {},
   "outputs": [],
   "source": [
    "# print(globals.print_subfields())\n",
    "# globals_pd = globals.to_pandas_df()\n",
    "# globals_pd.to_csv(\"~/ode/agentomics/output/notebook_output.csv\")"
   ]
  },
  {
   "cell_type": "code",
   "execution_count": null,
   "metadata": {},
   "outputs": [],
   "source": []
  }
 ],
 "metadata": {
  "kernelspec": {
   "display_name": "Python 3 (ipykernel)",
   "language": "python",
   "name": "python3"
  },
  "language_info": {
   "codemirror_mode": {
    "name": "ipython",
    "version": 3
   },
   "file_extension": ".py",
   "mimetype": "text/x-python",
   "name": "python",
   "nbconvert_exporter": "python",
   "pygments_lexer": "ipython3",
   "version": "3.11.5"
  }
 },
 "nbformat": 4,
 "nbformat_minor": 4
}
