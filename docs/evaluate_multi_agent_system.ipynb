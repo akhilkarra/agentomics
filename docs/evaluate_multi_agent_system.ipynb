{
 "cells": [
  {
   "cell_type": "markdown",
   "metadata": {},
   "source": [
    "# Evaluate Multi Agent System\n",
    "\n",
    "This notebook evaluates the accuracy and performance of the three-agent system of banks made in this repository with real world data."
   ]
  },
  {
   "cell_type": "markdown",
   "metadata": {},
   "source": [
    "## Evaluation with initial economic variables only\n",
    "\n",
    "This section tests the multi-agent system pipeline with just the initialization of the economic variables. In this case, the agents have no prior information on their behavior in previous quarters. This evaluation thus relies solely on the LLM's training data to make good decisions and properly propagate changes in economic variables.\n",
    "\n",
    "Hypothesis: the system will not match actual proceedings as the bank agents make the best decisions on all the information it knows (which is vastly more in some cases than some of the case studies' banks would have had access to) and the economic agent simply works off of these banks being representative of other similar banks."
   ]
  },
  {
   "cell_type": "code",
   "execution_count": null,
   "metadata": {},
   "outputs": [],
   "source": [
    "# Import GDP from US Bureau of Economic Analysis\n",
    "import os\n",
    "\n",
    "import pandas as pd\n",
    "import requests\n",
    "from dotenv import load_dotenv\n",
    "\n",
    "load_dotenv()\n",
    "api_key = os.getenv(\"BEA_API_KEY\")\n",
    "api_url = \"https://apps.bea.gov/api/data/\"\n",
    "params = {\n",
    "    \"UserID\": api_key,\n",
    "    \"method\": \"GetData\",\n",
    "    \"DataSetName\": \"NIPA\",\n",
    "    \"TableName\": \"T10101\", # Table with GDP Growth Rates\n",
    "    \"Frequency\": \"Q\",\n",
    "    \"Year\": \"ALL\",\n",
    "    \"ResultFormat\": \"JSON\"  # Use XML if preferred\n",
    "}\n",
    "\n",
    "# Fetch data\n",
    "response = requests.get(api_url, params=params)\n",
    "response.raise_for_status()  # Raise an exception for HTTP errors\n",
    "data = response.json()\n",
    "\n",
    "# Extract data nodes\n",
    "results = data[\"BEAAPI\"][\"Results\"][\"Data\"]\n",
    "\n",
    "# Transform into a DataFrame\n",
    "df = pd.DataFrame(results)\n",
    "\n",
    "# Optionally, convert relevant columns to numeric for analysis\n",
    "df[\"DataValue\"] = pd.to_numeric(df[\"DataValue\"], errors=\"coerce\")\n",
    "df[\"TimePeriod\"] = pd.to_datetime(df[\"TimePeriod\"])\n",
    "\n",
    "# Select relevant columns\n",
    "df = df[[\"TimePeriod\", \"DataValue\"]]\n",
    "\n",
    "# Rename columns for clarity\n",
    "df.rename(columns={\"TimePeriod\": \"Quarter\", \"DataValue\": \"GDP Growth Rate\"}, inplace=True)\n",
    "\n",
    "# Set index\n",
    "df.set_index(\"Quarter\", inplace=True)\n",
    "\n",
    "print(df.head())"
   ]
  },
  {
   "cell_type": "code",
   "execution_count": null,
   "metadata": {},
   "outputs": [],
   "source": []
  }
 ],
 "metadata": {
  "kernelspec": {
   "display_name": "agentomics",
   "language": "python",
   "name": "python3"
  },
  "language_info": {
   "codemirror_mode": {
    "name": "ipython",
    "version": 3
   },
   "file_extension": ".py",
   "mimetype": "text/x-python",
   "name": "python",
   "nbconvert_exporter": "python",
   "pygments_lexer": "ipython3",
   "version": "3.11.5"
  }
 },
 "nbformat": 4,
 "nbformat_minor": 2
}
