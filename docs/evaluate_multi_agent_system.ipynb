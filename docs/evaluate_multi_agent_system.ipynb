{
 "cells": [
  {
   "cell_type": "markdown",
   "metadata": {},
   "source": [
    "# Evaluate Multi Agent System Simulation\n",
    "\n",
    "This notebook evaluates the accuracy and performance of the three-agent system of banks made in this repository with real world data."
   ]
  },
  {
   "cell_type": "markdown",
   "metadata": {},
   "source": [
    "## Evaluation with initial economic variables only\n",
    "\n",
    "This section tests the multi-agent system pipeline with just the initialization of the economic variables. In this case, the agents have no prior information on their behavior in previous quarters. This evaluation thus relies solely on the LLM's training data to make good decisions and properly propagate changes in economic variables.\n",
    "\n",
    "Hypothesis: the system will not match actual proceedings as the bank agents make the best decisions on all the information it knows (which is vastly more in some cases than some of the case studies' banks would have had access to) and the economic agent simply works off of these banks being representative of other similar banks."
   ]
  },
  {
   "cell_type": "code",
   "execution_count": null,
   "metadata": {},
   "outputs": [],
   "source": [
    "# Import GDP Growth Rate from FRED\n",
    "import os\n",
    "\n",
    "import pandas as pd\n",
    "import requests\n",
    "from dotenv import load_dotenv\n",
    "\n",
    "load_dotenv()\n",
    "# FRED API details\n",
    "fred_api_url = \"https://api.stlouisfed.org/fred/series/observations\"\n",
    "fred_api_key = os.getenv(\"FRED_API_KEY\")\n",
    "params = {\n",
    "    \"series_id\": \"A191RL1Q225SBEA\",  # GDP growth rate series ID\n",
    "    \"api_key\": fred_api_key,\n",
    "    \"file_type\": \"json\",  # JSON format\n",
    "    \"frequency\": \"q\",  # Quarterly frequency\n",
    "    \"start_date\": \"2010-01-01\",  # Adjust as needed\n",
    "    \"end_date\": \"2024-01-01\"  # Adjust as needed\n",
    "}\n",
    "\n",
    "# Fetch data from FRED API\n",
    "response = requests.get(fred_api_url, params=params)\n",
    "data = response.json()\n",
    "\n",
    "# Parse JSON into a DataFrame\n",
    "observations = data[\"observations\"]\n",
    "df = pd.DataFrame(observations)\n",
    "\n",
    "# Clean and process the data\n",
    "df[\"date\"] = pd.to_datetime(df[\"date\"])  # Convert date strings to datetime\n",
    "df[\"value\"] = pd.to_numeric(df[\"value\"], errors=\"coerce\")  # Convert GDP growth rate to numeric\n",
    "df = df[[\"date\", \"value\"]].rename(columns={\"value\": \"Quarterly GDP Growth Rate\"})\n",
    "\n",
    "df[\"Quarterly GDP Growth Rate\"] /= 100.0\n",
    "print(df.head())"
   ]
  },
  {
   "cell_type": "code",
   "execution_count": null,
   "metadata": {},
   "outputs": [],
   "source": []
  }
 ],
 "metadata": {
  "kernelspec": {
   "display_name": "agentomics",
   "language": "python",
   "name": "python3"
  },
  "language_info": {
   "codemirror_mode": {
    "name": "ipython",
    "version": 3
   },
   "file_extension": ".py",
   "mimetype": "text/x-python",
   "name": "python",
   "nbconvert_exporter": "python",
   "pygments_lexer": "ipython3",
   "version": "3.11.5"
  }
 },
 "nbformat": 4,
 "nbformat_minor": 2
}
